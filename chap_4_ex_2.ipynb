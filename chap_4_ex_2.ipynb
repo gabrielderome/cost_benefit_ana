{
 "cells": [
  {
   "cell_type": "markdown",
   "metadata": {},
   "source": [
    "# import les librairies necessaires"
   ]
  },
  {
   "cell_type": "code",
   "execution_count": 1,
   "metadata": {},
   "outputs": [],
   "source": [
    "import pandas as pd\n",
    "import statsmodels.api as sm"
   ]
  },
  {
   "cell_type": "markdown",
   "metadata": {},
   "source": [
    "# load the data, print a description of it"
   ]
  },
  {
   "cell_type": "code",
   "execution_count": 2,
   "metadata": {},
   "outputs": [
    {
     "name": "stdout",
     "output_type": "stream",
     "text": [
      "            Town        Visits     Fee ($)    Income ($)     Population\n",
      "count  24.000000      24.000000  24.000000     24.000000      24.000000\n",
      "mean   12.500000  177191.083333   0.604167  30675.000000   75488.250000\n",
      "std     7.071068   17877.524342   0.541318   6843.673689   27360.701213\n",
      "min     1.000000  137413.000000   0.000000  20500.000000   22928.000000\n",
      "25%     6.750000  166184.750000   0.250000  24625.000000   56275.750000\n",
      "50%    12.500000  177000.000000   0.500000  33000.000000   75775.500000\n",
      "75%    18.250000  188565.500000   0.812500  36250.000000   98277.500000\n",
      "max    24.000000  209995.000000   2.000000  39700.000000  117940.000000\n"
     ]
    }
   ],
   "source": [
    "df = pd.read_excel('Donnees_Exercice_4_2.xlsx')\n",
    "\n",
    "print(df.describe())"
   ]
  },
  {
   "cell_type": "markdown",
   "metadata": {},
   "source": [
    "# print the dataframe (table)"
   ]
  },
  {
   "cell_type": "code",
   "execution_count": 3,
   "metadata": {},
   "outputs": [
    {
     "data": {
      "text/html": [
       "<div>\n",
       "<style scoped>\n",
       "    .dataframe tbody tr th:only-of-type {\n",
       "        vertical-align: middle;\n",
       "    }\n",
       "\n",
       "    .dataframe tbody tr th {\n",
       "        vertical-align: top;\n",
       "    }\n",
       "\n",
       "    .dataframe thead th {\n",
       "        text-align: right;\n",
       "    }\n",
       "</style>\n",
       "<table border=\"1\" class=\"dataframe\">\n",
       "  <thead>\n",
       "    <tr style=\"text-align: right;\">\n",
       "      <th></th>\n",
       "      <th>Town</th>\n",
       "      <th>Visits</th>\n",
       "      <th>Fee ($)</th>\n",
       "      <th>Income ($)</th>\n",
       "      <th>Population</th>\n",
       "    </tr>\n",
       "  </thead>\n",
       "  <tbody>\n",
       "    <tr>\n",
       "      <th>0</th>\n",
       "      <td>1</td>\n",
       "      <td>168590</td>\n",
       "      <td>0.00</td>\n",
       "      <td>20600</td>\n",
       "      <td>36879</td>\n",
       "    </tr>\n",
       "    <tr>\n",
       "      <th>1</th>\n",
       "      <td>2</td>\n",
       "      <td>179599</td>\n",
       "      <td>0.00</td>\n",
       "      <td>33400</td>\n",
       "      <td>64520</td>\n",
       "    </tr>\n",
       "    <tr>\n",
       "      <th>2</th>\n",
       "      <td>3</td>\n",
       "      <td>198595</td>\n",
       "      <td>0.00</td>\n",
       "      <td>39700</td>\n",
       "      <td>104123</td>\n",
       "    </tr>\n",
       "    <tr>\n",
       "      <th>3</th>\n",
       "      <td>4</td>\n",
       "      <td>206662</td>\n",
       "      <td>0.00</td>\n",
       "      <td>32600</td>\n",
       "      <td>103073</td>\n",
       "    </tr>\n",
       "    <tr>\n",
       "      <th>4</th>\n",
       "      <td>5</td>\n",
       "      <td>170259</td>\n",
       "      <td>0.00</td>\n",
       "      <td>24900</td>\n",
       "      <td>58386</td>\n",
       "    </tr>\n",
       "    <tr>\n",
       "      <th>5</th>\n",
       "      <td>6</td>\n",
       "      <td>209995</td>\n",
       "      <td>0.25</td>\n",
       "      <td>38000</td>\n",
       "      <td>116592</td>\n",
       "    </tr>\n",
       "    <tr>\n",
       "      <th>6</th>\n",
       "      <td>7</td>\n",
       "      <td>172018</td>\n",
       "      <td>0.25</td>\n",
       "      <td>26700</td>\n",
       "      <td>49945</td>\n",
       "    </tr>\n",
       "    <tr>\n",
       "      <th>7</th>\n",
       "      <td>8</td>\n",
       "      <td>190802</td>\n",
       "      <td>0.25</td>\n",
       "      <td>20800</td>\n",
       "      <td>79789</td>\n",
       "    </tr>\n",
       "    <tr>\n",
       "      <th>8</th>\n",
       "      <td>9</td>\n",
       "      <td>197019</td>\n",
       "      <td>0.25</td>\n",
       "      <td>26300</td>\n",
       "      <td>98234</td>\n",
       "    </tr>\n",
       "    <tr>\n",
       "      <th>9</th>\n",
       "      <td>10</td>\n",
       "      <td>186515</td>\n",
       "      <td>0.50</td>\n",
       "      <td>35600</td>\n",
       "      <td>71762</td>\n",
       "    </tr>\n",
       "    <tr>\n",
       "      <th>10</th>\n",
       "      <td>11</td>\n",
       "      <td>152679</td>\n",
       "      <td>0.50</td>\n",
       "      <td>38900</td>\n",
       "      <td>40178</td>\n",
       "    </tr>\n",
       "    <tr>\n",
       "      <th>11</th>\n",
       "      <td>12</td>\n",
       "      <td>137413</td>\n",
       "      <td>0.50</td>\n",
       "      <td>21700</td>\n",
       "      <td>22928</td>\n",
       "    </tr>\n",
       "    <tr>\n",
       "      <th>12</th>\n",
       "      <td>13</td>\n",
       "      <td>158056</td>\n",
       "      <td>0.50</td>\n",
       "      <td>37900</td>\n",
       "      <td>39031</td>\n",
       "    </tr>\n",
       "    <tr>\n",
       "      <th>13</th>\n",
       "      <td>14</td>\n",
       "      <td>157424</td>\n",
       "      <td>0.50</td>\n",
       "      <td>35100</td>\n",
       "      <td>44685</td>\n",
       "    </tr>\n",
       "    <tr>\n",
       "      <th>14</th>\n",
       "      <td>15</td>\n",
       "      <td>179490</td>\n",
       "      <td>0.50</td>\n",
       "      <td>35700</td>\n",
       "      <td>67882</td>\n",
       "    </tr>\n",
       "    <tr>\n",
       "      <th>15</th>\n",
       "      <td>16</td>\n",
       "      <td>164657</td>\n",
       "      <td>0.75</td>\n",
       "      <td>22900</td>\n",
       "      <td>69625</td>\n",
       "    </tr>\n",
       "    <tr>\n",
       "      <th>16</th>\n",
       "      <td>17</td>\n",
       "      <td>184428</td>\n",
       "      <td>0.75</td>\n",
       "      <td>38600</td>\n",
       "      <td>98408</td>\n",
       "    </tr>\n",
       "    <tr>\n",
       "      <th>17</th>\n",
       "      <td>18</td>\n",
       "      <td>183822</td>\n",
       "      <td>0.75</td>\n",
       "      <td>20500</td>\n",
       "      <td>93429</td>\n",
       "    </tr>\n",
       "    <tr>\n",
       "      <th>18</th>\n",
       "      <td>19</td>\n",
       "      <td>174510</td>\n",
       "      <td>1.00</td>\n",
       "      <td>39300</td>\n",
       "      <td>98077</td>\n",
       "    </tr>\n",
       "    <tr>\n",
       "      <th>19</th>\n",
       "      <td>20</td>\n",
       "      <td>187820</td>\n",
       "      <td>1.00</td>\n",
       "      <td>25800</td>\n",
       "      <td>104068</td>\n",
       "    </tr>\n",
       "    <tr>\n",
       "      <th>20</th>\n",
       "      <td>21</td>\n",
       "      <td>196318</td>\n",
       "      <td>1.25</td>\n",
       "      <td>23800</td>\n",
       "      <td>117940</td>\n",
       "    </tr>\n",
       "    <tr>\n",
       "      <th>21</th>\n",
       "      <td>22</td>\n",
       "      <td>166694</td>\n",
       "      <td>1.50</td>\n",
       "      <td>34000</td>\n",
       "      <td>59757</td>\n",
       "    </tr>\n",
       "    <tr>\n",
       "      <th>22</th>\n",
       "      <td>23</td>\n",
       "      <td>161716</td>\n",
       "      <td>1.50</td>\n",
       "      <td>29600</td>\n",
       "      <td>88305</td>\n",
       "    </tr>\n",
       "    <tr>\n",
       "      <th>23</th>\n",
       "      <td>24</td>\n",
       "      <td>167505</td>\n",
       "      <td>2.00</td>\n",
       "      <td>33800</td>\n",
       "      <td>84102</td>\n",
       "    </tr>\n",
       "  </tbody>\n",
       "</table>\n",
       "</div>"
      ],
      "text/plain": [
       "    Town  Visits   Fee ($)  Income ($)  Population\n",
       "0      1   168590     0.00       20600       36879\n",
       "1      2   179599     0.00       33400       64520\n",
       "2      3   198595     0.00       39700      104123\n",
       "3      4   206662     0.00       32600      103073\n",
       "4      5   170259     0.00       24900       58386\n",
       "5      6   209995     0.25       38000      116592\n",
       "6      7   172018     0.25       26700       49945\n",
       "7      8   190802     0.25       20800       79789\n",
       "8      9   197019     0.25       26300       98234\n",
       "9     10   186515     0.50       35600       71762\n",
       "10    11   152679     0.50       38900       40178\n",
       "11    12   137413     0.50       21700       22928\n",
       "12    13   158056     0.50       37900       39031\n",
       "13    14   157424     0.50       35100       44685\n",
       "14    15   179490     0.50       35700       67882\n",
       "15    16   164657     0.75       22900       69625\n",
       "16    17   184428     0.75       38600       98408\n",
       "17    18   183822     0.75       20500       93429\n",
       "18    19   174510     1.00       39300       98077\n",
       "19    20   187820     1.00       25800      104068\n",
       "20    21   196318     1.25       23800      117940\n",
       "21    22   166694     1.50       34000       59757\n",
       "22    23   161716     1.50       29600       88305\n",
       "23    24   167505     2.00       33800       84102"
      ]
     },
     "execution_count": 3,
     "metadata": {},
     "output_type": "execute_result"
    }
   ],
   "source": [
    "df"
   ]
  },
  {
   "cell_type": "markdown",
   "metadata": {},
   "source": [
    "# print all column names"
   ]
  },
  {
   "cell_type": "code",
   "execution_count": 4,
   "metadata": {},
   "outputs": [
    {
     "name": "stdout",
     "output_type": "stream",
     "text": [
      "Index(['Town', 'Visits ', 'Fee ($)', 'Income ($)', 'Population'], dtype='object')\n"
     ]
    }
   ],
   "source": [
    "print(df.columns)"
   ]
  },
  {
   "cell_type": "markdown",
   "metadata": {},
   "source": [
    "# add a new column to the data frame (visites par personne)"
   ]
  },
  {
   "cell_type": "code",
   "execution_count": 5,
   "metadata": {},
   "outputs": [],
   "source": [
    "df[\"Visits_per_person\"] = df[\"Visits \"] / df[\"Population\"]"
   ]
  },
  {
   "cell_type": "markdown",
   "metadata": {},
   "source": [
    "# re display the dataframe"
   ]
  },
  {
   "cell_type": "code",
   "execution_count": 6,
   "metadata": {},
   "outputs": [
    {
     "data": {
      "text/html": [
       "<div>\n",
       "<style scoped>\n",
       "    .dataframe tbody tr th:only-of-type {\n",
       "        vertical-align: middle;\n",
       "    }\n",
       "\n",
       "    .dataframe tbody tr th {\n",
       "        vertical-align: top;\n",
       "    }\n",
       "\n",
       "    .dataframe thead th {\n",
       "        text-align: right;\n",
       "    }\n",
       "</style>\n",
       "<table border=\"1\" class=\"dataframe\">\n",
       "  <thead>\n",
       "    <tr style=\"text-align: right;\">\n",
       "      <th></th>\n",
       "      <th>Town</th>\n",
       "      <th>Visits</th>\n",
       "      <th>Fee ($)</th>\n",
       "      <th>Income ($)</th>\n",
       "      <th>Population</th>\n",
       "      <th>Visits_per_person</th>\n",
       "    </tr>\n",
       "  </thead>\n",
       "  <tbody>\n",
       "    <tr>\n",
       "      <th>0</th>\n",
       "      <td>1</td>\n",
       "      <td>168590</td>\n",
       "      <td>0.00</td>\n",
       "      <td>20600</td>\n",
       "      <td>36879</td>\n",
       "      <td>4.571436</td>\n",
       "    </tr>\n",
       "    <tr>\n",
       "      <th>1</th>\n",
       "      <td>2</td>\n",
       "      <td>179599</td>\n",
       "      <td>0.00</td>\n",
       "      <td>33400</td>\n",
       "      <td>64520</td>\n",
       "      <td>2.783617</td>\n",
       "    </tr>\n",
       "    <tr>\n",
       "      <th>2</th>\n",
       "      <td>3</td>\n",
       "      <td>198595</td>\n",
       "      <td>0.00</td>\n",
       "      <td>39700</td>\n",
       "      <td>104123</td>\n",
       "      <td>1.907312</td>\n",
       "    </tr>\n",
       "    <tr>\n",
       "      <th>3</th>\n",
       "      <td>4</td>\n",
       "      <td>206662</td>\n",
       "      <td>0.00</td>\n",
       "      <td>32600</td>\n",
       "      <td>103073</td>\n",
       "      <td>2.005006</td>\n",
       "    </tr>\n",
       "    <tr>\n",
       "      <th>4</th>\n",
       "      <td>5</td>\n",
       "      <td>170259</td>\n",
       "      <td>0.00</td>\n",
       "      <td>24900</td>\n",
       "      <td>58386</td>\n",
       "      <td>2.916093</td>\n",
       "    </tr>\n",
       "    <tr>\n",
       "      <th>5</th>\n",
       "      <td>6</td>\n",
       "      <td>209995</td>\n",
       "      <td>0.25</td>\n",
       "      <td>38000</td>\n",
       "      <td>116592</td>\n",
       "      <td>1.801110</td>\n",
       "    </tr>\n",
       "    <tr>\n",
       "      <th>6</th>\n",
       "      <td>7</td>\n",
       "      <td>172018</td>\n",
       "      <td>0.25</td>\n",
       "      <td>26700</td>\n",
       "      <td>49945</td>\n",
       "      <td>3.444149</td>\n",
       "    </tr>\n",
       "    <tr>\n",
       "      <th>7</th>\n",
       "      <td>8</td>\n",
       "      <td>190802</td>\n",
       "      <td>0.25</td>\n",
       "      <td>20800</td>\n",
       "      <td>79789</td>\n",
       "      <td>2.391332</td>\n",
       "    </tr>\n",
       "    <tr>\n",
       "      <th>8</th>\n",
       "      <td>9</td>\n",
       "      <td>197019</td>\n",
       "      <td>0.25</td>\n",
       "      <td>26300</td>\n",
       "      <td>98234</td>\n",
       "      <td>2.005609</td>\n",
       "    </tr>\n",
       "    <tr>\n",
       "      <th>9</th>\n",
       "      <td>10</td>\n",
       "      <td>186515</td>\n",
       "      <td>0.50</td>\n",
       "      <td>35600</td>\n",
       "      <td>71762</td>\n",
       "      <td>2.599078</td>\n",
       "    </tr>\n",
       "    <tr>\n",
       "      <th>10</th>\n",
       "      <td>11</td>\n",
       "      <td>152679</td>\n",
       "      <td>0.50</td>\n",
       "      <td>38900</td>\n",
       "      <td>40178</td>\n",
       "      <td>3.800065</td>\n",
       "    </tr>\n",
       "    <tr>\n",
       "      <th>11</th>\n",
       "      <td>12</td>\n",
       "      <td>137413</td>\n",
       "      <td>0.50</td>\n",
       "      <td>21700</td>\n",
       "      <td>22928</td>\n",
       "      <td>5.993240</td>\n",
       "    </tr>\n",
       "    <tr>\n",
       "      <th>12</th>\n",
       "      <td>13</td>\n",
       "      <td>158056</td>\n",
       "      <td>0.50</td>\n",
       "      <td>37900</td>\n",
       "      <td>39031</td>\n",
       "      <td>4.049499</td>\n",
       "    </tr>\n",
       "    <tr>\n",
       "      <th>13</th>\n",
       "      <td>14</td>\n",
       "      <td>157424</td>\n",
       "      <td>0.50</td>\n",
       "      <td>35100</td>\n",
       "      <td>44685</td>\n",
       "      <td>3.522972</td>\n",
       "    </tr>\n",
       "    <tr>\n",
       "      <th>14</th>\n",
       "      <td>15</td>\n",
       "      <td>179490</td>\n",
       "      <td>0.50</td>\n",
       "      <td>35700</td>\n",
       "      <td>67882</td>\n",
       "      <td>2.644147</td>\n",
       "    </tr>\n",
       "    <tr>\n",
       "      <th>15</th>\n",
       "      <td>16</td>\n",
       "      <td>164657</td>\n",
       "      <td>0.75</td>\n",
       "      <td>22900</td>\n",
       "      <td>69625</td>\n",
       "      <td>2.364912</td>\n",
       "    </tr>\n",
       "    <tr>\n",
       "      <th>16</th>\n",
       "      <td>17</td>\n",
       "      <td>184428</td>\n",
       "      <td>0.75</td>\n",
       "      <td>38600</td>\n",
       "      <td>98408</td>\n",
       "      <td>1.874116</td>\n",
       "    </tr>\n",
       "    <tr>\n",
       "      <th>17</th>\n",
       "      <td>18</td>\n",
       "      <td>183822</td>\n",
       "      <td>0.75</td>\n",
       "      <td>20500</td>\n",
       "      <td>93429</td>\n",
       "      <td>1.967505</td>\n",
       "    </tr>\n",
       "    <tr>\n",
       "      <th>18</th>\n",
       "      <td>19</td>\n",
       "      <td>174510</td>\n",
       "      <td>1.00</td>\n",
       "      <td>39300</td>\n",
       "      <td>98077</td>\n",
       "      <td>1.779316</td>\n",
       "    </tr>\n",
       "    <tr>\n",
       "      <th>19</th>\n",
       "      <td>20</td>\n",
       "      <td>187820</td>\n",
       "      <td>1.00</td>\n",
       "      <td>25800</td>\n",
       "      <td>104068</td>\n",
       "      <td>1.804781</td>\n",
       "    </tr>\n",
       "    <tr>\n",
       "      <th>20</th>\n",
       "      <td>21</td>\n",
       "      <td>196318</td>\n",
       "      <td>1.25</td>\n",
       "      <td>23800</td>\n",
       "      <td>117940</td>\n",
       "      <td>1.664558</td>\n",
       "    </tr>\n",
       "    <tr>\n",
       "      <th>21</th>\n",
       "      <td>22</td>\n",
       "      <td>166694</td>\n",
       "      <td>1.50</td>\n",
       "      <td>34000</td>\n",
       "      <td>59757</td>\n",
       "      <td>2.789531</td>\n",
       "    </tr>\n",
       "    <tr>\n",
       "      <th>22</th>\n",
       "      <td>23</td>\n",
       "      <td>161716</td>\n",
       "      <td>1.50</td>\n",
       "      <td>29600</td>\n",
       "      <td>88305</td>\n",
       "      <td>1.831335</td>\n",
       "    </tr>\n",
       "    <tr>\n",
       "      <th>23</th>\n",
       "      <td>24</td>\n",
       "      <td>167505</td>\n",
       "      <td>2.00</td>\n",
       "      <td>33800</td>\n",
       "      <td>84102</td>\n",
       "      <td>1.991689</td>\n",
       "    </tr>\n",
       "  </tbody>\n",
       "</table>\n",
       "</div>"
      ],
      "text/plain": [
       "    Town  Visits   Fee ($)  Income ($)  Population  Visits_per_person\n",
       "0      1   168590     0.00       20600       36879           4.571436\n",
       "1      2   179599     0.00       33400       64520           2.783617\n",
       "2      3   198595     0.00       39700      104123           1.907312\n",
       "3      4   206662     0.00       32600      103073           2.005006\n",
       "4      5   170259     0.00       24900       58386           2.916093\n",
       "5      6   209995     0.25       38000      116592           1.801110\n",
       "6      7   172018     0.25       26700       49945           3.444149\n",
       "7      8   190802     0.25       20800       79789           2.391332\n",
       "8      9   197019     0.25       26300       98234           2.005609\n",
       "9     10   186515     0.50       35600       71762           2.599078\n",
       "10    11   152679     0.50       38900       40178           3.800065\n",
       "11    12   137413     0.50       21700       22928           5.993240\n",
       "12    13   158056     0.50       37900       39031           4.049499\n",
       "13    14   157424     0.50       35100       44685           3.522972\n",
       "14    15   179490     0.50       35700       67882           2.644147\n",
       "15    16   164657     0.75       22900       69625           2.364912\n",
       "16    17   184428     0.75       38600       98408           1.874116\n",
       "17    18   183822     0.75       20500       93429           1.967505\n",
       "18    19   174510     1.00       39300       98077           1.779316\n",
       "19    20   187820     1.00       25800      104068           1.804781\n",
       "20    21   196318     1.25       23800      117940           1.664558\n",
       "21    22   166694     1.50       34000       59757           2.789531\n",
       "22    23   161716     1.50       29600       88305           1.831335\n",
       "23    24   167505     2.00       33800       84102           1.991689"
      ]
     },
     "execution_count": 6,
     "metadata": {},
     "output_type": "execute_result"
    }
   ],
   "source": [
    "df"
   ]
  },
  {
   "cell_type": "markdown",
   "metadata": {},
   "source": [
    "# ces variables viennent de lenonce de la question 4.2 donc on fais juste les assigner"
   ]
  },
  {
   "cell_type": "code",
   "execution_count": 7,
   "metadata": {},
   "outputs": [],
   "source": [
    "Dry_revenu = 31500\n",
    "Dry_population = 70230"
   ]
  },
  {
   "cell_type": "markdown",
   "metadata": {},
   "source": [
    "# premiere methode de regression que le prof donne:\n",
    "## Visits_per_person = alpha_0 + alpha_1 * Fee + alpha_2 * Income\n",
    "on assigne alors les variables Fee et Income a X et Visits_per_person a y"
   ]
  },
  {
   "cell_type": "code",
   "execution_count": 8,
   "metadata": {},
   "outputs": [],
   "source": [
    "X = df[['Fee ($)', 'Income ($)']]\n",
    "X = sm.add_constant(X)\n",
    "y = df['Visits_per_person']"
   ]
  },
  {
   "cell_type": "markdown",
   "metadata": {},
   "source": [
    "# on regresse les variables"
   ]
  },
  {
   "cell_type": "code",
   "execution_count": 9,
   "metadata": {},
   "outputs": [],
   "source": [
    "model = sm.OLS(y, X).fit()"
   ]
  },
  {
   "cell_type": "markdown",
   "metadata": {},
   "source": [
    "# on recupere les coefficients"
   ]
  },
  {
   "cell_type": "code",
   "execution_count": 10,
   "metadata": {},
   "outputs": [],
   "source": [
    "coefficients = model.params"
   ]
  },
  {
   "cell_type": "markdown",
   "metadata": {},
   "source": [
    "# on calcule alpha_0 et alpha_1"
   ]
  },
  {
   "cell_type": "code",
   "execution_count": 11,
   "metadata": {},
   "outputs": [],
   "source": [
    "alpha_0 = (coefficients['const'] + coefficients['Income ($)'] * Dry_revenu) * Dry_population\n",
    "alpha_1 = coefficients['Fee ($)'] * Dry_population"
   ]
  },
  {
   "cell_type": "markdown",
   "metadata": {},
   "source": [
    "# on les affiches"
   ]
  },
  {
   "cell_type": "code",
   "execution_count": 12,
   "metadata": {},
   "outputs": [
    {
     "name": "stdout",
     "output_type": "stream",
     "text": [
      "alpha_0: 211515.02715381465\n",
      "alpha_1: -40420.69803036392\n"
     ]
    }
   ],
   "source": [
    "print(f\"alpha_0: {alpha_0}\")\n",
    "print(f\"alpha_1: {alpha_1}\")"
   ]
  },
  {
   "cell_type": "markdown",
   "metadata": {},
   "source": [
    "# on calcule q et on le print"
   ]
  },
  {
   "cell_type": "code",
   "execution_count": 13,
   "metadata": {},
   "outputs": [
    {
     "name": "stdout",
     "output_type": "stream",
     "text": [
      "q1: 171094.32912345073\n"
     ]
    }
   ],
   "source": [
    "q1 = alpha_0 + alpha_1\n",
    "print(f\"q1: {q1}\")"
   ]
  },
  {
   "cell_type": "markdown",
   "metadata": {},
   "source": [
    "# on fait la seconde regression\n",
    "## avec les variables Fee, Income et Population comme variables explicatives et simplement Visits comme variable a predire.\n",
    "ca fait du sens puisque dans un cas, tu utilise une variable qui est deja un ratio de visites par personne et dans l'autre tu utilise directement le nombre de visites mais on rajoute la population dans les variables expliquatives. on peut dire que c'est equivalent"
   ]
  },
  {
   "cell_type": "code",
   "execution_count": 14,
   "metadata": {},
   "outputs": [],
   "source": [
    "X = df[['Fee ($)', 'Income ($)', \"Population\"]]\n",
    "X = sm.add_constant(X)\n",
    "y = df['Visits ']"
   ]
  },
  {
   "cell_type": "markdown",
   "metadata": {},
   "source": [
    "# on roule la deuxieme regression"
   ]
  },
  {
   "cell_type": "code",
   "execution_count": 15,
   "metadata": {},
   "outputs": [],
   "source": [
    "model = sm.OLS(y, X).fit()"
   ]
  },
  {
   "cell_type": "markdown",
   "metadata": {},
   "source": [
    "# on recupere encore les coeficients"
   ]
  },
  {
   "cell_type": "code",
   "execution_count": 16,
   "metadata": {},
   "outputs": [],
   "source": [
    "coefficients = model.params"
   ]
  },
  {
   "cell_type": "markdown",
   "metadata": {},
   "source": [
    "# on calcule alpha_0 et alpha_1 puis on les imprime"
   ]
  },
  {
   "cell_type": "code",
   "execution_count": 17,
   "metadata": {},
   "outputs": [
    {
     "name": "stdout",
     "output_type": "stream",
     "text": [
      "alpha_0: 182863.19559795945\n",
      "alpha_1: -14638.574021567285\n"
     ]
    }
   ],
   "source": [
    "alpha_0 = (coefficients['const'] + coefficients['Income ($)'] * Dry_revenu + coefficients['Population'] * Dry_population)\n",
    "alpha_1 = coefficients['Fee ($)']\n",
    "\n",
    "print(f\"alpha_0: {alpha_0}\")\n",
    "print(f\"alpha_1: {alpha_1}\")"
   ]
  },
  {
   "cell_type": "markdown",
   "metadata": {},
   "source": [
    "# on calcule q2 et on le print"
   ]
  },
  {
   "cell_type": "code",
   "execution_count": 18,
   "metadata": {},
   "outputs": [
    {
     "name": "stdout",
     "output_type": "stream",
     "text": [
      "q2: 168224.62157639215\n"
     ]
    }
   ],
   "source": [
    "q2 = alpha_0 + alpha_1\n",
    "print(f\"q2: {q2}\")"
   ]
  },
  {
   "cell_type": "markdown",
   "metadata": {},
   "source": [
    "# a) with regression 2"
   ]
  },
  {
   "cell_type": "code",
   "execution_count": 19,
   "metadata": {},
   "outputs": [
    {
     "name": "stdout",
     "output_type": "stream",
     "text": [
      "p_bar: 12.491872181576134\n",
      "CS: 1142151.8330621326\n"
     ]
    }
   ],
   "source": [
    "p_bar = -1*alpha_0/alpha_1\n",
    "print(f\"p_bar: {p_bar}\")\n",
    "\n",
    "CS = 0.5 * p_bar * alpha_0\n",
    "\n",
    "print(f\"CS: {CS}\")"
   ]
  },
  {
   "cell_type": "markdown",
   "metadata": {},
   "source": [
    "# b) with regression 2"
   ]
  },
  {
   "cell_type": "code",
   "execution_count": 20,
   "metadata": {},
   "outputs": [
    {
     "name": "stdout",
     "output_type": "stream",
     "text": [
      "q1: 168224.62157639215\n",
      "CS: 966607.9244749567\n",
      "b: 1134832.7960513488\n"
     ]
    }
   ],
   "source": [
    "p1 = 1\n",
    "q1 = alpha_0 + alpha_1 * p1\n",
    "CS = 0.5 * (p_bar - p1) * q1\n",
    "\n",
    "METB = 0.25\n",
    "\n",
    "b = CS + p1 * q1 * 1 + METB\n",
    "\n",
    "print(f\"q1: {q1}\")\n",
    "print(f\"CS: {CS}\")\n",
    "print(f\"b: {b}\")"
   ]
  }
 ],
 "metadata": {
  "kernelspec": {
   "display_name": "Python 3",
   "language": "python",
   "name": "python3"
  },
  "language_info": {
   "codemirror_mode": {
    "name": "ipython",
    "version": 3
   },
   "file_extension": ".py",
   "mimetype": "text/x-python",
   "name": "python",
   "nbconvert_exporter": "python",
   "pygments_lexer": "ipython3",
   "version": "3.12.5"
  }
 },
 "nbformat": 4,
 "nbformat_minor": 2
}
